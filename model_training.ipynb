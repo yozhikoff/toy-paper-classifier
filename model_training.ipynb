{
 "cells": [
  {
   "cell_type": "markdown",
   "id": "7b177a9f-7662-4c5c-95e1-f815bf5e926a",
   "metadata": {},
   "source": [
    "# Preparing the data"
   ]
  },
  {
   "cell_type": "code",
   "execution_count": 1,
   "id": "9eafb794-82b8-4adc-8fbc-15ec874fbf38",
   "metadata": {},
   "outputs": [],
   "source": [
    "import json\n",
    "from collections import Counter\n",
    "from dataclasses import dataclass\n",
    "\n",
    "import numpy as np\n",
    "\n",
    "from sklearn.model_selection import train_test_split"
   ]
  },
  {
   "cell_type": "code",
   "execution_count": 2,
   "id": "3b88df55-5712-49fd-9cae-beb4d6e902e2",
   "metadata": {},
   "outputs": [],
   "source": [
    "#data from https://www.kaggle.com/neelshah18/arxivdataset/\n",
    "\n",
    "with open('arxivData.json') as f:\n",
    "    arxiv_data = json.load(f)"
   ]
  },
  {
   "cell_type": "code",
   "execution_count": 3,
   "id": "9abf7c8c-1ec8-4f9a-b6fc-05fc4148775a",
   "metadata": {},
   "outputs": [],
   "source": [
    "@dataclass\n",
    "class Paper:\n",
    "    title: str\n",
    "    summary: str\n",
    "    tags: list[str]"
   ]
  },
  {
   "cell_type": "code",
   "execution_count": 4,
   "id": "911bfcc8-02cf-40d6-b3bc-76e863fa89cc",
   "metadata": {},
   "outputs": [],
   "source": [
    "papers = []\n",
    "for paper_json in arxiv_data:\n",
    "    tags = [i['term'] for i in eval(paper_json['tag'])]\n",
    "    paper = Paper(paper_json['title'], paper_json['summary'], tags)\n",
    "    papers.append(paper)"
   ]
  },
  {
   "cell_type": "code",
   "execution_count": 5,
   "id": "904762ea-dc00-4f0d-a847-83bfa62f236a",
   "metadata": {},
   "outputs": [],
   "source": [
    "tags_frequency = Counter(sum([paper.tags for paper in papers], []))"
   ]
  },
  {
   "cell_type": "code",
   "execution_count": 6,
   "id": "42a7d735-7ae5-401e-9fca-b590c2ae1b12",
   "metadata": {},
   "outputs": [
    {
     "data": {
      "text/plain": [
       "[('cs.CV', 13902),\n",
       " ('cs.LG', 13735),\n",
       " ('cs.AI', 10481),\n",
       " ('stat.ML', 10326),\n",
       " ('cs.CL', 6417),\n",
       " ('cs.NE', 3819),\n",
       " ('cs.IR', 1443),\n",
       " ('math.OC', 1020),\n",
       " ('cs.RO', 973),\n",
       " ('cs.LO', 643),\n",
       " ('cs.SI', 639),\n",
       " ('cs.DS', 570),\n",
       " ('cs.IT', 543),\n",
       " ('math.IT', 543),\n",
       " ('q-bio.NC', 513),\n",
       " ('stat.ME', 458),\n",
       " ('cs.HC', 434),\n",
       " ('cs.CR', 411),\n",
       " ('cs.DC', 404),\n",
       " ('cs.SD', 389),\n",
       " ('cs.CY', 376),\n",
       " ('stat.AP', 360),\n",
       " ('cs.MM', 345),\n",
       " ('math.ST', 336),\n",
       " ('stat.TH', 336),\n",
       " ('cs.DB', 327),\n",
       " ('cs.GT', 318),\n",
       " ('I.2.7', 313),\n",
       " ('physics.soc-ph', 293),\n",
       " ('cs.CE', 285),\n",
       " ('cs.SY', 270),\n",
       " ('cs.MA', 268),\n",
       " ('stat.CO', 260),\n",
       " ('cs.NA', 253),\n",
       " ('q-bio.QM', 232),\n",
       " ('cs.GR', 225),\n",
       " ('cs.CC', 196),\n",
       " ('physics.data-an', 187),\n",
       " ('cs.SE', 180),\n",
       " ('math.NA', 172),\n",
       " ('math.PR', 144),\n",
       " ('quant-ph', 142),\n",
       " ('cs.DL', 139),\n",
       " ('cs.NI', 137),\n",
       " ('I.2.6', 131),\n",
       " ('cs.PL', 128),\n",
       " ('cond-mat.dis-nn', 126),\n",
       " ('nlin.AO', 119),\n",
       " ('cmp-lg', 110),\n",
       " ('cs.DM', 101),\n",
       " ('I.2.4', 97),\n",
       " ('cs.CG', 94),\n",
       " ('eess.AS', 89),\n",
       " ('cs.ET', 85),\n",
       " ('eess.IV', 85),\n",
       " ('cond-mat.stat-mech', 84),\n",
       " ('q-bio.PE', 84),\n",
       " ('physics.med-ph', 81),\n",
       " ('astro-ph.IM', 76),\n",
       " ('68T50', 73),\n",
       " ('cs.MS', 66),\n",
       " ('68T05', 63),\n",
       " ('I.2.3', 62),\n",
       " ('physics.optics', 60),\n",
       " ('cs.AR', 52),\n",
       " ('eess.SP', 52)]"
      ]
     },
     "execution_count": 6,
     "metadata": {},
     "output_type": "execute_result"
    }
   ],
   "source": [
    "tags_frequency.most_common(66)"
   ]
  },
  {
   "cell_type": "code",
   "execution_count": 7,
   "id": "0911c904-93c6-4bd6-8a7f-2850cdc8dba9",
   "metadata": {},
   "outputs": [],
   "source": [
    "tag_to_label = {i[0]: num for num, i in enumerate(tags_frequency.most_common(50))}\n",
    "label_to_tag= {value: key for key, value in tag_to_label.items()}\n",
    "\n",
    "most_common_tags_set = set(label_to_tag.values())"
   ]
  },
  {
   "cell_type": "code",
   "execution_count": 8,
   "id": "afbb7753-7d54-44c4-ab5a-05aa8f13b24b",
   "metadata": {
    "jupyter": {
     "source_hidden": true
    },
    "tags": []
   },
   "outputs": [],
   "source": [
    "most_common_human_readable = {\n",
    "    'cs.CV': 'Computer Vision and Pattern Recognition',\n",
    "    'cs.LG': 'Machine Learning',\n",
    "    'cs.AI': 'Artificial Intelligence',\n",
    "    'stat.ML': 'Machine Learning',\n",
    "    'cs.CL': 'Computation and Language',\n",
    "    'cs.NE': 'Neural and Evolutionary Computing',\n",
    "    'cs.IR': 'Information Retrieval',\n",
    "    'math.OC': 'Optimization and Control',\n",
    "    'cs.RO': 'Robotics',\n",
    "    'cs.LO': 'Logic in Computer Science',\n",
    "    'cs.SI': 'Social and Information Networks',\n",
    "    'cs.DS': 'Data Structures and Algorithms',\n",
    "    'cs.IT': 'Information Theory',\n",
    "    'math.IT': 'Information Theory',\n",
    "    'q-bio.NC': 'Quantitative Biology - Neurons and Cognition',\n",
    "    'stat.ME': 'Methodology',\n",
    "    'cs.HC': 'Human-Computer Interaction',\n",
    "    'cs.CR': 'Cryptography and Security',\n",
    "    'cs.DC': 'Distributed, Parallel, and Cluster Computing',\n",
    "    'cs.SD': 'Sound',\n",
    "    'cs.CY': 'Computers and Society',\n",
    "    'stat.AP': 'Applications',\n",
    "    'cs.MM': 'Multimedia',\n",
    "    'math.ST': 'Statistics Theory',\n",
    "    'stat.TH': 'Statistics Theory',\n",
    "    'cs.DB': 'Databases',\n",
    "    'cs.GT': 'Computer Science and Game Theory',\n",
    "    'I.2.7': 'Natural Language Processing',\n",
    "    'physics.soc-ph': 'Physics and Society',\n",
    "    'cs.CE': 'Computational Engineering, Finance, and Science',\n",
    "    'cs.SY': 'Systems and Control',\n",
    "    'cs.MA': 'Multiagent Systems',\n",
    "    'stat.CO': 'Combinatorics',\n",
    "    'cs.NA': 'Numerical Analysis',\n",
    "    'q-bio.QM': 'Quantitative Biology - Quantitative Methods',\n",
    "    'cs.GR': 'Graphics',\n",
    "    'cs.CC': 'Computational Complexity',\n",
    "    'physics.data-an': 'Data Analysis, Statistics and Probability',\n",
    "    'cs.SE': 'Software Engineering',\n",
    "    'math.NA': 'Numerical Analysis',\n",
    "    'math.PR': 'Probability',\n",
    "    'quant-ph': 'Quantum Physics',\n",
    "    'cs.DL': 'Digital Libraries',\n",
    "    'cs.NI': 'Networking and Internet Architecture',\n",
    "    'I.2.6': 'Learning',\n",
    "    'cs.PL': 'Programming Languages',\n",
    "    'cond-mat.dis-nn': 'Disordered Systems and Neural Networks',\n",
    "    'nlin.AO': 'Adaptation and Self-Organizing Systems',\n",
    "    'cmp-lg': 'Computation and Language',\n",
    "    'cs.DM': 'Discrete Mathematics',\n",
    "    'I.2.4': 'Knowledge Representation and Reasoning',\n",
    "    'cs.CG': 'Computational Geometry',\n",
    "    'eess.AS': 'Audio and Speech Processing',\n",
    "    'cs.ET': 'Emerging Technologies',\n",
    "    'eess.IV': 'Image and Video Processing',\n",
    "    'cond-mat.stat-mech': 'Statistical Mechanics',\n",
    "    'q-bio.PE': 'Quantitative Biology - Populations and Evolution',\n",
    "    'physics.med-ph': 'Medical Physics',\n",
    "    'astro-ph.IM': 'Instrumentation and Methods for Astrophysics',\n",
    "    '68T50': 'Algorithms',\n",
    "    'cs.MS': 'Mathematical Software',\n",
    "    '68T05': 'Design and Analysis of Algorithms',\n",
    "    'I.2.3': 'Deduction and Theorem Proving',\n",
    "    'physics.optics': 'Optics',\n",
    "    'cs.AR': 'Hardware Architecture',\n",
    "    'eess.SP': 'Signal Processing'}"
   ]
  },
  {
   "cell_type": "code",
   "execution_count": 9,
   "id": "5c6a0399-2e85-4567-b423-ff2f91385ca2",
   "metadata": {},
   "outputs": [],
   "source": [
    "id2label = {key: most_common_human_readable[value] for key, value in label_to_tag.items()}"
   ]
  },
  {
   "cell_type": "code",
   "execution_count": 10,
   "id": "d1caaefc-fab1-4f3f-8dbf-077793621755",
   "metadata": {},
   "outputs": [],
   "source": [
    "papers_train, papers_val = train_test_split(papers, test_size=0.15, random_state=42)"
   ]
  },
  {
   "cell_type": "markdown",
   "id": "9d4de921-fc33-424a-957a-ecda866e33c9",
   "metadata": {},
   "source": [
    "# Creating Pytorch dataset"
   ]
  },
  {
   "cell_type": "code",
   "execution_count": 11,
   "id": "eb2d91e2-73e7-4de0-8054-d864e03cfa6f",
   "metadata": {},
   "outputs": [],
   "source": [
    "import torch\n",
    "from torch.utils.data import Dataset"
   ]
  },
  {
   "cell_type": "code",
   "execution_count": 12,
   "id": "4c40370f-8694-4ff0-83a0-4f76b10e3e0c",
   "metadata": {},
   "outputs": [],
   "source": [
    "def tags_to_vector(tags):\n",
    "    labels = []\n",
    "    for tag in tags:\n",
    "        if tag in most_common_tags_set:\n",
    "            labels.append(tag_to_label[tag])\n",
    "    labels = torch.tensor(labels)\n",
    "    labels_vector = torch.zeros(50, dtype=torch.float)\n",
    "    labels_vector[labels] = 1\n",
    "    return labels_vector"
   ]
  },
  {
   "cell_type": "code",
   "execution_count": 13,
   "id": "49439cf6-6864-4cb0-a194-af15af6574ab",
   "metadata": {},
   "outputs": [],
   "source": [
    "class PaperDataset:\n",
    "    def __init__(self, papers):\n",
    "        self.papers = papers\n",
    "    \n",
    "    def __len__(self):\n",
    "        return len(self.papers)\n",
    "        \n",
    "    def get_text(self, idx):\n",
    "        paper = self.papers[idx]\n",
    "        \n",
    "        text = f\"TITLE\\n{paper.title}\\n\\nABSTRACT\\n{paper.summary}\"\n",
    "        \n",
    "        return text\n",
    "        \n",
    "    def tokenize_all(self, tokenizer):\n",
    "        texts = [self.get_text(num) for num in range(len(self.papers))]\n",
    "        self.encodings = tokenizer(texts, truncation=True, padding=True)\n",
    "        return self\n",
    "    \n",
    "    def __getitem__(self, idx):\n",
    "        item = {key: torch.tensor(val[idx]) for key, val in self.encodings.items()}\n",
    "        item['labels'] = tags_to_vector(self.papers[idx].tags)\n",
    "        item['text'] = self.get_text(idx)\n",
    "        return item"
   ]
  },
  {
   "cell_type": "code",
   "execution_count": 14,
   "id": "abeb3f14-0560-4bce-915e-c4398f69e719",
   "metadata": {},
   "outputs": [],
   "source": [
    "from transformers import AutoTokenizer\n",
    "tokenizer = AutoTokenizer.from_pretrained(\"Wi/arxiv-topics-distilbert-base-cased\")\n",
    "\n",
    "dataset_train = PaperDataset(papers_train).tokenize_all(tokenizer)\n",
    "dataset_val = PaperDataset(papers_val).tokenize_all(tokenizer)"
   ]
  },
  {
   "cell_type": "markdown",
   "id": "b365035c-5f76-45d1-b55b-b6643c4b0ddf",
   "metadata": {},
   "source": [
    "## Train model "
   ]
  },
  {
   "cell_type": "code",
   "execution_count": 15,
   "id": "a8677216-785d-4dc0-a701-624936e4a7a1",
   "metadata": {},
   "outputs": [
    {
     "name": "stderr",
     "output_type": "stream",
     "text": [
      "Some weights of DistilBertForSequenceClassification were not initialized from the model checkpoint at Wi/arxiv-topics-distilbert-base-cased and are newly initialized because the shapes did not match:\n",
      "- classifier.weight: found shape torch.Size([21, 768]) in the checkpoint and torch.Size([50, 768]) in the model instantiated\n",
      "- classifier.bias: found shape torch.Size([21]) in the checkpoint and torch.Size([50]) in the model instantiated\n",
      "You should probably TRAIN this model on a down-stream task to be able to use it for predictions and inference.\n"
     ]
    }
   ],
   "source": [
    "from transformers import AutoModelForSequenceClassification\n",
    "\n",
    "model = AutoModelForSequenceClassification.from_pretrained(\"Wi/arxiv-topics-distilbert-base-cased\",\n",
    "                                                           num_labels=50, problem_type='multi_label_classification',\n",
    "                                                           ignore_mismatched_sizes=True,\n",
    "                                                           id2label=id2label)"
   ]
  },
  {
   "cell_type": "code",
   "execution_count": 22,
   "id": "b41aa20d-1410-43bb-b3a2-7b45908af16f",
   "metadata": {},
   "outputs": [],
   "source": [
    "from transformers import TrainingArguments, Trainer\n",
    "\n",
    "training_args = TrainingArguments(output_dir=\"arxiv-topics-distilbert-base-cased\", evaluation_strategy=\"epoch\", \n",
    "                                  num_train_epochs=4, bf16=True, per_device_train_batch_size=8)"
   ]
  },
  {
   "cell_type": "code",
   "execution_count": 23,
   "id": "217721d2-8679-45e5-a9f1-f4ccf3fd2e15",
   "metadata": {},
   "outputs": [],
   "source": [
    "from sklearn.metrics import precision_score, recall_score\n",
    "\n",
    "def sigmoid(x):\n",
    "    return 1 / (1 + np.exp(-x))\n",
    "\n",
    "def compute_metrics(eval_pred):\n",
    "    logits, labels = eval_pred\n",
    "    predictions = sigmoid(logits) > 0.5\n",
    "    labels = labels > 0.5\n",
    "    return {'accuracy': (labels == predictions).mean(), 'precision':  (labels * predictions).sum()/predictions.sum(),\n",
    "            'recall': (labels * predictions).sum()/labels.sum()}"
   ]
  },
  {
   "cell_type": "code",
   "execution_count": 24,
   "id": "ecb77f77-28f4-4f67-8bab-3cea140632de",
   "metadata": {},
   "outputs": [],
   "source": [
    "trainer = Trainer(\n",
    "    model=model,\n",
    "    args=training_args,\n",
    "    train_dataset=dataset_train,\n",
    "    eval_dataset=dataset_val,\n",
    "    compute_metrics=compute_metrics,\n",
    ")"
   ]
  },
  {
   "cell_type": "code",
   "execution_count": 25,
   "id": "b8e7eb8f-79af-49e8-8355-de32a7111ec1",
   "metadata": {},
   "outputs": [
    {
     "name": "stderr",
     "output_type": "stream",
     "text": [
      "/home/yubi/miniconda3/envs/shad/lib/python3.10/site-packages/transformers/optimization.py:391: FutureWarning: This implementation of AdamW is deprecated and will be removed in a future version. Use the PyTorch implementation torch.optim.AdamW instead, or set `no_deprecation_warning=True` to disable this warning\n",
      "  warnings.warn(\n"
     ]
    },
    {
     "data": {
      "text/html": [
       "\n",
       "    <div>\n",
       "      \n",
       "      <progress value='17428' max='17428' style='width:300px; height:20px; vertical-align: middle;'></progress>\n",
       "      [17428/17428 06:43, Epoch 4/4]\n",
       "    </div>\n",
       "    <table border=\"1\" class=\"dataframe\">\n",
       "  <thead>\n",
       " <tr style=\"text-align: left;\">\n",
       "      <th>Epoch</th>\n",
       "      <th>Training Loss</th>\n",
       "      <th>Validation Loss</th>\n",
       "      <th>Accuracy</th>\n",
       "      <th>Precision</th>\n",
       "      <th>Recall</th>\n",
       "    </tr>\n",
       "  </thead>\n",
       "  <tbody>\n",
       "    <tr>\n",
       "      <td>1</td>\n",
       "      <td>0.081100</td>\n",
       "      <td>0.077994</td>\n",
       "      <td>0.973363</td>\n",
       "      <td>0.769674</td>\n",
       "      <td>0.382085</td>\n",
       "    </tr>\n",
       "    <tr>\n",
       "      <td>2</td>\n",
       "      <td>0.077900</td>\n",
       "      <td>0.074298</td>\n",
       "      <td>0.974641</td>\n",
       "      <td>0.747806</td>\n",
       "      <td>0.457000</td>\n",
       "    </tr>\n",
       "    <tr>\n",
       "      <td>3</td>\n",
       "      <td>0.074200</td>\n",
       "      <td>0.073029</td>\n",
       "      <td>0.974872</td>\n",
       "      <td>0.747886</td>\n",
       "      <td>0.466476</td>\n",
       "    </tr>\n",
       "    <tr>\n",
       "      <td>4</td>\n",
       "      <td>0.075100</td>\n",
       "      <td>0.072446</td>\n",
       "      <td>0.975080</td>\n",
       "      <td>0.758171</td>\n",
       "      <td>0.462453</td>\n",
       "    </tr>\n",
       "  </tbody>\n",
       "</table><p>"
      ],
      "text/plain": [
       "<IPython.core.display.HTML object>"
      ]
     },
     "metadata": {},
     "output_type": "display_data"
    },
    {
     "data": {
      "text/plain": [
       "TrainOutput(global_step=17428, training_loss=0.07906670381039525, metrics={'train_runtime': 404.3941, 'train_samples_per_second': 344.713, 'train_steps_per_second': 43.097, 'total_flos': 1.8481762449408e+16, 'train_loss': 0.07906670381039525, 'epoch': 4.0})"
      ]
     },
     "execution_count": 25,
     "metadata": {},
     "output_type": "execute_result"
    }
   ],
   "source": [
    "trainer.train()"
   ]
  },
  {
   "cell_type": "markdown",
   "id": "33968406-89d3-4547-bec0-75233ee92b80",
   "metadata": {},
   "source": [
    "## Check output"
   ]
  },
  {
   "cell_type": "code",
   "execution_count": 35,
   "id": "b966f2b8-8a7f-44e3-aeb8-a4afd6cd7a66",
   "metadata": {},
   "outputs": [
    {
     "name": "stdout",
     "output_type": "stream",
     "text": [
      "TITLE\n",
      "Robust features for facial action recognition\n",
      "\n",
      "ABSTRACT\n",
      "Automatic recognition of facial gestures is becoming increasingly important\n",
      "as real world AI agents become a reality. In this paper, we present an\n",
      "automated system that recognizes facial gestures by capturing local changes and\n",
      "encoding the motion into a histogram of frequencies. We evaluate the proposed\n",
      "method by demonstrating its effectiveness on spontaneous face action\n",
      "benchmarks: the FEEDTUM dataset, the Pain dataset and the HMDB51 dataset. The\n",
      "results show that, compared to known methods, the new encoding methods\n",
      "significantly improve the recognition accuracy and the robustness of analysis\n",
      "for a variety of applications. \n",
      "\n",
      "{'accuracy': 1.0, 'precision': 1.0, 'recall': 1.0}\n",
      "0.82\t1.0\t!!!!\tComputer Vision and Pattern Recognition\n",
      "0.16\t0.0\t!!!!\tMachine Learning\n",
      "0.13\t0.0\t!!!!\tArtificial Intelligence\n",
      "0.07\t0.0\t\tMachine Learning\n",
      "0.13\t0.0\t!!!!\tComputation and Language\n",
      "0.03\t0.0\t\tNeural and Evolutionary Computing\n",
      "0.03\t0.0\t\tInformation Retrieval\n",
      "0.00\t0.0\t\tOptimization and Control\n",
      "0.05\t0.0\t\tRobotics\n",
      "0.00\t0.0\t\tLogic in Computer Science\n",
      "0.00\t0.0\t\tSocial and Information Networks\n",
      "0.00\t0.0\t\tData Structures and Algorithms\n",
      "0.00\t0.0\t\tInformation Theory\n",
      "0.00\t0.0\t\tInformation Theory\n",
      "0.00\t0.0\t\tQuantitative Biology - Neurons and Cognition\n",
      "0.00\t0.0\t\tMethodology\n",
      "0.03\t0.0\t\tHuman-Computer Interaction\n",
      "0.03\t0.0\t\tCryptography and Security\n",
      "0.01\t0.0\t\tDistributed, Parallel, and Cluster Computing\n",
      "0.00\t0.0\t\tSound\n",
      "0.01\t0.0\t\tComputers and Society\n",
      "0.00\t0.0\t\tApplications\n",
      "0.02\t0.0\t\tMultimedia\n",
      "0.00\t0.0\t\tStatistics Theory\n",
      "0.00\t0.0\t\tStatistics Theory\n",
      "0.00\t0.0\t\tDatabases\n",
      "0.00\t0.0\t\tComputer Science and Game Theory\n",
      "0.00\t0.0\t\tNatural Language Processing\n",
      "0.00\t0.0\t\tPhysics and Society\n",
      "0.00\t0.0\t\tComputational Engineering, Finance, and Science\n",
      "0.00\t0.0\t\tSystems and Control\n",
      "0.00\t0.0\t\tMultiagent Systems\n",
      "0.00\t0.0\t\tCombinatorics\n",
      "0.00\t0.0\t\tNumerical Analysis\n",
      "0.00\t0.0\t\tQuantitative Biology - Quantitative Methods\n",
      "0.01\t0.0\t\tGraphics\n",
      "0.00\t0.0\t\tComputational Complexity\n",
      "0.00\t0.0\t\tData Analysis, Statistics and Probability\n",
      "0.01\t0.0\t\tSoftware Engineering\n",
      "0.00\t0.0\t\tNumerical Analysis\n",
      "0.00\t0.0\t\tProbability\n",
      "0.00\t0.0\t\tQuantum Physics\n",
      "0.00\t0.0\t\tDigital Libraries\n",
      "0.00\t0.0\t\tNetworking and Internet Architecture\n",
      "0.00\t0.0\t\tLearning\n",
      "0.00\t0.0\t\tProgramming Languages\n",
      "0.00\t0.0\t\tDisordered Systems and Neural Networks\n",
      "0.00\t0.0\t\tAdaptation and Self-Organizing Systems\n",
      "0.00\t0.0\t\tComputation and Language\n",
      "0.00\t0.0\t\tDiscrete Mathematics\n"
     ]
    }
   ],
   "source": [
    "item = dataset_val[857]\n",
    "\n",
    "probs = torch.sigmoid(model(item['input_ids'].cuda()[None]).logits)[0].cpu().detach().numpy()\n",
    "\n",
    "print(item['text'], '\\n')\n",
    "print(compute_metrics((model(item['input_ids'].cuda()[None]).logits.cpu().detach().numpy()[0], item['labels'].cpu().numpy())))\n",
    "\n",
    "for tag, prob, true_prob in zip(label_to_tag.values(), probs, item['labels']):\n",
    "    print(f'{prob:.2f}\\t{true_prob}\\t{\"!!!!\" if( prob > 0.1 )== 1 or true_prob == 1 else \"\"}\\t{most_common_human_readable[tag]}')"
   ]
  },
  {
   "cell_type": "code",
   "execution_count": null,
   "id": "905fec45-03c7-4f85-bd6f-9197428fec9e",
   "metadata": {},
   "outputs": [],
   "source": [
    "trainer.save_model(\"arxiv-topics-distilbert-base-cased_2_epochs\")"
   ]
  }
 ],
 "metadata": {
  "kernelspec": {
   "display_name": "shad",
   "language": "python",
   "name": "shad"
  },
  "language_info": {
   "codemirror_mode": {
    "name": "ipython",
    "version": 3
   },
   "file_extension": ".py",
   "mimetype": "text/x-python",
   "name": "python",
   "nbconvert_exporter": "python",
   "pygments_lexer": "ipython3",
   "version": "3.10.9"
  }
 },
 "nbformat": 4,
 "nbformat_minor": 5
}
